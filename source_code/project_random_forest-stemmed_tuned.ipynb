{
 "cells": [
  {
   "cell_type": "markdown",
   "metadata": {},
   "source": [
    "# Reading data from csv"
   ]
  },
  {
   "cell_type": "code",
   "execution_count": 2,
   "metadata": {},
   "outputs": [],
   "source": [
    "import pandas as pd\n",
    "import matplotlib.pyplot as plt\n",
    "from sklearn.metrics import accuracy_score, classification_report\n",
    "from sklearn.feature_extraction.text import TfidfVectorizer\n",
    "from sklearn.model_selection import train_test_split, GridSearchCV\n",
    "from sklearn.ensemble import RandomForestClassifier\n",
    "from sklearn.metrics import classification_report, accuracy_score, confusion_matrix, roc_curve, auc\n",
    "\n",
    "df = pd.read_csv('enron_spam_data.csv')\n",
    "#display(df)"
   ]
  },
  {
   "cell_type": "markdown",
   "metadata": {},
   "source": [
    "# Data Cleaning "
   ]
  },
  {
   "cell_type": "code",
   "execution_count": 3,
   "metadata": {},
   "outputs": [],
   "source": [
    "import re\n",
    "\n",
    "def regexClean(message_content):\n",
    "    # convert everything to string\n",
    "    # getting a \"passing a float\" error otherwise\n",
    "    message_content = str(message_content) \n",
    "    \n",
    "    # remove all URLs\n",
    "    message_content = re.sub(r'(http|https|ftp)://[a-zA-Z0-9\\\\./]+', ' ', str(message_content)) \n",
    "\n",
    "    # remove all emails\n",
    "    message_content = re.sub(r'[A-Za-z0-9._\\\\-]+@[A-Za-z0-9-]*\\\\.[a-z]{2,3}','',str(message_content))\n",
    "\n",
    "    # remove all tags\n",
    "    # https://stackoverflow.com/questions/9662346/python-code-to-remove-html-tags-from-a-string\n",
    "    message_content = re.sub(r'<[^<]+?>', '', str(message_content)) \n",
    "\n",
    "    # remove newline\n",
    "    message_content = message_content.replace('\\n', ' ')\n",
    "\n",
    "    # convert all chars to lowercase\n",
    "    message_content = message_content.lower()\n",
    "    return message_content\n",
    "\n",
    "# make a copy of the df \n",
    "df_with_punct_numb_removed = df.copy();\n",
    "\n",
    "df['Cleaned_Message'] = df['Message'].apply(regexClean)\n",
    "\n",
    "#print(df[['Message', 'Cleaned_Message']].head())\n",
    "#df_with_punct_numb_removed.head()"
   ]
  },
  {
   "cell_type": "markdown",
   "metadata": {},
   "source": [
    "## punctuation and digits removed "
   ]
  },
  {
   "cell_type": "code",
   "execution_count": 4,
   "metadata": {},
   "outputs": [],
   "source": [
    "from string import punctuation\n",
    "\n",
    "def punct_removal(message_content):\n",
    "    message_content = str(message_content)\n",
    "    \n",
    "    # https://regexr.com/\n",
    "    \n",
    "    # remove digits\n",
    "    message_content = re.sub(r'\\d+', ' ', message_content)\n",
    "\n",
    "    # remove all non-alphabetic characters\n",
    "    message_content = message_content.replace(r'[^a-zA-Z]', '') \n",
    "\n",
    "    #remove punctuation\n",
    "    # https://stackoverflow.com/questions/265960/best-way-to-strip-punctuation-from-a-string\n",
    "    message_content = message_content.translate(str.maketrans('', '', punctuation))\n",
    "    \n",
    "    return message_content\n",
    "\n",
    "df_with_punct_numb_removed['Cleaned_Message'] = df_with_punct_numb_removed['Message'].apply(punct_removal)\n",
    "\n",
    "#display(df_with_punct_numb_removed)"
   ]
  },
  {
   "cell_type": "markdown",
   "metadata": {},
   "source": [
    "# Stemming and Stop word removal"
   ]
  },
  {
   "cell_type": "markdown",
   "metadata": {},
   "source": [
    "Stemming -> removes es, ies, s\n",
    "dog, dogs -> dog\n",
    "\n",
    "- snowball stemmer: Porter2, enhanced adv version of porter stemmer\n",
    "- porter stemmer\n",
    "\n",
    "tokenization\n",
    "\n",
    "stop word removal: remove of, the and common prepositions and words that do not offer much new information"
   ]
  },
  {
   "cell_type": "code",
   "execution_count": 5,
   "metadata": {},
   "outputs": [
    {
     "name": "stderr",
     "output_type": "stream",
     "text": [
      "[nltk_data] Downloading package stopwords to\n",
      "[nltk_data]     /home/datascience/nltk_data...\n",
      "[nltk_data]   Package stopwords is already up-to-date!\n"
     ]
    }
   ],
   "source": [
    "import nltk\n",
    "nltk.download('stopwords')\n",
    "from nltk.corpus import stopwords\n",
    "from nltk.stem import SnowballStemmer\n",
    "\n",
    "def stem_stopword_rem(message_content):\n",
    "    message_content = str(message_content)\n",
    "\n",
    "    # remove english stop words\n",
    "    stop_words = stopwords.words('english')\n",
    "    words = [eachword for eachword in message_content.split() if eachword not in stop_words]\n",
    "\n",
    "    # stem words w Snowball stemmer\n",
    "    stemmer = SnowballStemmer('english')\n",
    "    stemmed = [stemmer.stem(eachword) for eachword in words]\n",
    "\n",
    "    stemmed_stopword_removed_message = ' '.join(stemmed)\n",
    "\n",
    "    return stemmed_stopword_removed_message\n",
    "\n",
    "df_stem_stopword_removed = df_with_punct_numb_removed.copy()\n",
    "df_stem_stopword_removed['Cleaned_Message'] = df_with_punct_numb_removed['Cleaned_Message'].apply(stem_stopword_rem)\n",
    "\n",
    "#display(df_stem_stopword_removed)"
   ]
  },
  {
   "cell_type": "markdown",
   "metadata": {},
   "source": [
    "# TFIDF "
   ]
  },
  {
   "cell_type": "code",
   "execution_count": 6,
   "metadata": {},
   "outputs": [
    {
     "name": "stdout",
     "output_type": "stream",
     "text": [
      "    aa   ab  abil  abl  abroad  absenc  absolut  abus   ac  academ  ...   yes  \\\n",
      "0  0.0  0.0   0.0  0.0     0.0     0.0      0.0   0.0  0.0     0.0  ...   0.0   \n",
      "1  0.0  0.0   0.0  0.0     0.0     0.0      0.0   0.0  0.0     0.0  ...   0.0   \n",
      "2  0.0  0.0   0.0  0.0     0.0     0.0      0.0   0.0  0.0     0.0  ...   0.0   \n",
      "3  0.0  0.0   0.0  0.0     0.0     0.0      0.0   0.0  0.0     0.0  ...   0.0   \n",
      "4  0.0  0.0   0.0  0.0     0.0     0.0      0.0   0.0  0.0     0.0  ...   0.0   \n",
      "\n",
      "   yesterday  yet  yield   yo  york  young  zero  zimin  zone  \n",
      "0   0.000000  0.0    0.0  0.0   0.0    0.0   0.0    0.0   0.0  \n",
      "1   0.000000  0.0    0.0  0.0   0.0    0.0   0.0    0.0   0.0  \n",
      "2   0.000000  0.0    0.0  0.0   0.0    0.0   0.0    0.0   0.0  \n",
      "3   0.054077  0.0    0.0  0.0   0.0    0.0   0.0    0.0   0.0  \n",
      "4   0.000000  0.0    0.0  0.0   0.0    0.0   0.0    0.0   0.0  \n",
      "\n",
      "[5 rows x 3000 columns]\n"
     ]
    }
   ],
   "source": [
    "# Vectorize the text data\n",
    "vectorizer = TfidfVectorizer(max_features=3000)\n",
    "X = vectorizer.fit_transform(df_stem_stopword_removed['Cleaned_Message']).toarray()\n",
    "\n",
    "# Convert the vectorized data to a DataFrame for better visualization\n",
    "vectorized_df = pd.DataFrame(X, columns=vectorizer.get_feature_names())\n",
    "\n",
    "# Display the first few rows of the vectorized data\n",
    "print(vectorized_df.head())"
   ]
  },
  {
   "cell_type": "code",
   "execution_count": 7,
   "metadata": {},
   "outputs": [
    {
     "name": "stdout",
     "output_type": "stream",
     "text": [
      "Fitting 2 folds for each of 1 candidates, totalling 2 fits\n",
      "[CV] criterion=gini, max_depth=5, max_features=auto, n_estimators=100 \n"
     ]
    },
    {
     "name": "stderr",
     "output_type": "stream",
     "text": [
      "[Parallel(n_jobs=1)]: Using backend SequentialBackend with 1 concurrent workers.\n"
     ]
    },
    {
     "name": "stdout",
     "output_type": "stream",
     "text": [
      "[CV]  criterion=gini, max_depth=5, max_features=auto, n_estimators=100, total=   3.9s\n",
      "[CV] criterion=gini, max_depth=5, max_features=auto, n_estimators=100 \n"
     ]
    },
    {
     "name": "stderr",
     "output_type": "stream",
     "text": [
      "[Parallel(n_jobs=1)]: Done   1 out of   1 | elapsed:    4.2s remaining:    0.0s\n"
     ]
    },
    {
     "name": "stdout",
     "output_type": "stream",
     "text": [
      "[CV]  criterion=gini, max_depth=5, max_features=auto, n_estimators=100, total=   3.5s\n"
     ]
    },
    {
     "name": "stderr",
     "output_type": "stream",
     "text": [
      "[Parallel(n_jobs=1)]: Done   2 out of   2 | elapsed:    7.9s finished\n"
     ]
    },
    {
     "name": "stdout",
     "output_type": "stream",
     "text": [
      "Best Hyperparameters: {'criterion': 'gini', 'max_depth': 5, 'max_features': 'auto', 'n_estimators': 100}\n",
      "Best Grid Search CV Score: 0.879875426368\n",
      "Accuracy: 0.8846381969157769\n",
      "             precision    recall  f1-score   support\n",
      "\n",
      "        ham       0.99      0.77      0.87      3276\n",
      "       spam       0.82      0.99      0.90      3468\n",
      "\n",
      "avg / total       0.90      0.88      0.88      6744\n",
      "\n"
     ]
    }
   ],
   "source": [
    "# Define the target variable\n",
    "y = df['Spam/Ham'] \n",
    "\n",
    "# Split the data into training and testing sets\n",
    "X_train, X_test, y_train, y_test = train_test_split(X, y, test_size=0.2, random_state=42)\n",
    "\n",
    "# Define the parameter grid for RandomForestClassifier\n",
    "parameter_grid = {\n",
    "    'n_estimators': [100],\n",
    "    'max_features': ['auto'],\n",
    "    'max_depth': [5],\n",
    "    'criterion': ['gini']\n",
    "}\n",
    "\n",
    "# Perform Grid Search\n",
    "grid_search = GridSearchCV(RandomForestClassifier(random_state=42), parameter_grid, cv=2, n_jobs=1, verbose=2)\n",
    "grid_search.fit(X_train, y_train)\n",
    "\n",
    "# Get the best model and parameters\n",
    "best_model = grid_search.best_estimator_\n",
    "best_params = grid_search.best_params_\n",
    "\n",
    "# Predict on the test set with the best model\n",
    "y_pred = best_model.predict(X_test)\n",
    "\n",
    "# Print the results\n",
    "print(\"Best Hyperparameters:\", best_params)\n",
    "print(\"Best Grid Search CV Score:\", grid_search.best_score_)\n",
    "\n",
    "accuracy = accuracy_score(y_test, y_pred)\n",
    "print(f\"Accuracy: {accuracy}\")\n",
    "print(classification_report(y_test, y_pred))"
   ]
  },
  {
   "cell_type": "code",
   "execution_count": 8,
   "metadata": {},
   "outputs": [
    {
     "data": {
      "image/png": "[encoded data removed]",
      "text/plain": [
       "<matplotlib.figure.Figure at 0xffff6a7fe3c8>"
      ]
     },
     "metadata": {},
     "output_type": "display_data"
    }
   ],
   "source": [
    "# Confusion Matrix\n",
    "def plot_confusion_matrix(y_test, y_pred, class_labels=None, title='Confusion Matrix', cmap=plt.cm.Blues):\n",
    "    conf_matrix = confusion_matrix(y_test, y_pred)\n",
    "    plt.figure(figsize=(10, 7))\n",
    "    plt.imshow(conf_matrix, interpolation='nearest', cmap=cmap)\n",
    "    plt.title(title)\n",
    "    plt.colorbar()\n",
    "    tick_marks = [0, 1]\n",
    "    plt.xticks(tick_marks, ['Ham', 'Spam'], rotation=45)\n",
    "    plt.yticks(tick_marks, ['Ham', 'Spam'])\n",
    "    \n",
    "    thresh = conf_matrix.max() / 2.\n",
    "    for i in range(conf_matrix.shape[0]):\n",
    "        for j in range(conf_matrix.shape[1]):\n",
    "            plt.text(j, i, format(conf_matrix[i, j], 'd'),\n",
    "                     horizontalalignment=\"center\",\n",
    "                     color=\"white\" if conf_matrix[i, j] > thresh else \"black\")\n",
    "    \n",
    "    plt.ylabel('True label')\n",
    "    plt.xlabel('Predicted label')\n",
    "    plt.tight_layout()\n",
    "    plt.show()\n",
    "    \n",
    "plot_confusion_matrix(y_test, y_pred, class_labels=None, title='Random Trees on stemmed data')"
   ]
  },
  {
   "cell_type": "code",
   "execution_count": 11,
   "metadata": {},
   "outputs": [
    {
     "data": {
      "image/png": "[encoded data removed]",
      "text/plain": [
       "<matplotlib.figure.Figure at 0xffff6b68a3c8>"
      ]
     },
     "metadata": {},
     "output_type": "display_data"
    }
   ],
   "source": [
    "# ROC Curve\n",
    "y_prob = best_model.predict_proba(X_test)[:, 1]\n",
    "fpr, tpr, _ = roc_curve(y_test, y_prob, pos_label='spam')\n",
    "roc_auc = auc(fpr, tpr)\n",
    "\n",
    "plt.figure(figsize=(10, 7))\n",
    "plt.plot(fpr, tpr, color='blue', lw=2, label=f'ROC curve (area = {roc_auc:0.2f})')\n",
    "plt.plot([0, 1], [0, 1], color='red', lw=2, linestyle='--')\n",
    "plt.xlim([0.0, 1.0])\n",
    "plt.ylim([0.0, 1.05])\n",
    "plt.xlabel('False Positive Rate')\n",
    "plt.ylabel('True Positive Rate')\n",
    "plt.title('Receiver Operating Characteristic (ROC) Curve')\n",
    "plt.legend(loc=\"lower right\")\n",
    "plt.show()"
   ]
  },
  {
   "cell_type": "code",
   "execution_count": 14,
   "metadata": {},
   "outputs": [
    {
     "data": {
      "image/png": "[encoded data removed]",
      "text/plain": [
       "<matplotlib.figure.Figure at 0xffff6b2d5908>"
      ]
     },
     "metadata": {},
     "output_type": "display_data"
    }
   ],
   "source": [
    "importances = best_model.feature_importances_\n",
    "indices = sorted(range(len(importances)), key=lambda i: importances[i])[-10:]  # Top 10 features\n",
    "\n",
    "plt.figure(figsize=(10, 7))\n",
    "plt.barh(range(len(indices)), [importances[i] for i in indices], align='center')\n",
    "plt.yticks(range(len(indices)), [vectorizer.get_feature_names()[i] for i in indices])\n",
    "plt.xlabel('Relative Importance')\n",
    "plt.title('Top 10 Feature Importances')\n",
    "plt.show()"
   ]
  },
  {
   "cell_type": "code",
   "execution_count": null,
   "metadata": {},
   "outputs": [],
   "source": []
  }
 ],
 "metadata": {
  "kernelspec": {
   "display_name": "Python 3",
   "language": "python",
   "name": "python3"
  },
  "language_info": {
   "codemirror_mode": {
    "name": "ipython",
    "version": 3
   },
   "file_extension": ".py",
   "mimetype": "text/x-python",
   "name": "python",
   "nbconvert_exporter": "python",
   "pygments_lexer": "ipython3",
   "version": "3.6.9"
  }
 },
 "nbformat": 4,
 "nbformat_minor": 5
}
